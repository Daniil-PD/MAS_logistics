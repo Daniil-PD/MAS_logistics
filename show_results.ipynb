{
 "cells": [
  {
   "cell_type": "code",
   "execution_count": 3,
   "metadata": {},
   "outputs": [],
   "source": [
    "import pandas as pd\n",
    "import matplotlib.pyplot as plt\n",
    "import matplotlib\n",
    "import numpy as np\n",
    "import glob"
   ]
  },
  {
   "cell_type": "code",
   "execution_count": 9,
   "metadata": {},
   "outputs": [
    {
     "name": "stdout",
     "output_type": "stream",
     "text": [
      "<class 'pandas.core.frame.DataFrame'>\n",
      "Index: 1552 entries, 0 to 799\n",
      "Data columns (total 21 columns):\n",
      " #   Column                                                     Non-Null Count  Dtype  \n",
      "---  ------                                                     --------------  -----  \n",
      " 0   Unnamed: 0                                                 1552 non-null   int64  \n",
      " 1   Загруженность ресурсов (%)                                 1552 non-null   float64\n",
      " 2   Общий пробег                                               1552 non-null   float64\n",
      " 3   Соблюдение временных окон (%)                              1552 non-null   float64\n",
      " 4   Равномерность распределения нагрузки (StdDev of Earnings)  1552 non-null   float64\n",
      " 5   Среднее время выполнения заказа                            1552 non-null   float64\n",
      " 6   experiment_time                                            1552 non-null   float64\n",
      " 7   tick_size                                                  1552 non-null   int64  \n",
      " 8   time_stop                                                  1552 non-null   int64  \n",
      " 9   num_orders                                                 1552 non-null   int64  \n",
      " 10  urgent_percentage                                          1552 non-null   int64  \n",
      " 11  num_couriers                                               1552 non-null   int64  \n",
      " 12  map_size                                                   1552 non-null   object \n",
      " 13  max_appearance_time                                        1552 non-null   int64  \n",
      " 14  avg_courier_speed                                          1552 non-null   int64  \n",
      " 15  velocity_range                                             1552 non-null   object \n",
      " 16  payload_range                                              1552 non-null   object \n",
      " 17  Количество сообщений                                       196 non-null    float64\n",
      " 18  Количество выполненных заказов                             196 non-null    float64\n",
      " 19  Среднее время выполнения срочных заказов                   196 non-null    float64\n",
      " 20  Среднее время выполнения несрочных заказов                 196 non-null    float64\n",
      "dtypes: float64(10), int64(8), object(3)\n",
      "memory usage: 266.8+ KB\n"
     ]
    }
   ],
   "source": [
    "df = pd.DataFrame()\n",
    "for f in glob.glob(\"experiments_results\\\\*.xlsx\"):\n",
    "    df = pd.concat([df, pd.read_excel(f)])\n",
    "df.info()"
   ]
  },
  {
   "cell_type": "code",
   "execution_count": 7,
   "metadata": {},
   "outputs": [
    {
     "data": {
      "text/html": [
       "<div>\n",
       "<style scoped>\n",
       "    .dataframe tbody tr th:only-of-type {\n",
       "        vertical-align: middle;\n",
       "    }\n",
       "\n",
       "    .dataframe tbody tr th {\n",
       "        vertical-align: top;\n",
       "    }\n",
       "\n",
       "    .dataframe thead th {\n",
       "        text-align: right;\n",
       "    }\n",
       "</style>\n",
       "<table border=\"1\" class=\"dataframe\">\n",
       "  <thead>\n",
       "    <tr style=\"text-align: right;\">\n",
       "      <th></th>\n",
       "      <th>Unnamed: 0</th>\n",
       "      <th>Загруженность ресурсов (%)</th>\n",
       "      <th>Общий пробег</th>\n",
       "      <th>Соблюдение временных окон (%)</th>\n",
       "      <th>Равномерность распределения нагрузки (StdDev of Earnings)</th>\n",
       "      <th>Среднее время выполнения заказа</th>\n",
       "      <th>Количество сообщений</th>\n",
       "      <th>Количество выполненных заказов</th>\n",
       "      <th>Среднее время выполнения срочных заказов</th>\n",
       "      <th>Среднее время выполнения несрочных заказов</th>\n",
       "      <th>...</th>\n",
       "      <th>tick_size</th>\n",
       "      <th>time_stop</th>\n",
       "      <th>num_orders</th>\n",
       "      <th>urgent_percentage</th>\n",
       "      <th>num_couriers</th>\n",
       "      <th>map_size</th>\n",
       "      <th>max_appearance_time</th>\n",
       "      <th>avg_courier_speed</th>\n",
       "      <th>velocity_range</th>\n",
       "      <th>payload_range</th>\n",
       "    </tr>\n",
       "  </thead>\n",
       "  <tbody>\n",
       "    <tr>\n",
       "      <th>0</th>\n",
       "      <td>0</td>\n",
       "      <td>4.505451</td>\n",
       "      <td>485.501672</td>\n",
       "      <td>0.000000</td>\n",
       "      <td>387.670874</td>\n",
       "      <td>71.497299</td>\n",
       "      <td>210</td>\n",
       "      <td>5</td>\n",
       "      <td>0.0</td>\n",
       "      <td>71.497299</td>\n",
       "      <td>...</td>\n",
       "      <td>1</td>\n",
       "      <td>240</td>\n",
       "      <td>5</td>\n",
       "      <td>0</td>\n",
       "      <td>20</td>\n",
       "      <td>(100, 100)</td>\n",
       "      <td>220</td>\n",
       "      <td>4</td>\n",
       "      <td>(2.0, 4.0)</td>\n",
       "      <td>(10.0, 20.0)</td>\n",
       "    </tr>\n",
       "    <tr>\n",
       "      <th>1</th>\n",
       "      <td>1</td>\n",
       "      <td>6.812400</td>\n",
       "      <td>1015.415087</td>\n",
       "      <td>40.000000</td>\n",
       "      <td>555.136461</td>\n",
       "      <td>80.337108</td>\n",
       "      <td>420</td>\n",
       "      <td>10</td>\n",
       "      <td>0.0</td>\n",
       "      <td>80.337108</td>\n",
       "      <td>...</td>\n",
       "      <td>1</td>\n",
       "      <td>240</td>\n",
       "      <td>10</td>\n",
       "      <td>0</td>\n",
       "      <td>20</td>\n",
       "      <td>(100, 100)</td>\n",
       "      <td>220</td>\n",
       "      <td>4</td>\n",
       "      <td>(2.0, 4.0)</td>\n",
       "      <td>(10.0, 20.0)</td>\n",
       "    </tr>\n",
       "    <tr>\n",
       "      <th>2</th>\n",
       "      <td>2</td>\n",
       "      <td>10.545581</td>\n",
       "      <td>1288.566316</td>\n",
       "      <td>26.666667</td>\n",
       "      <td>902.025353</td>\n",
       "      <td>100.546667</td>\n",
       "      <td>630</td>\n",
       "      <td>15</td>\n",
       "      <td>0.0</td>\n",
       "      <td>100.546667</td>\n",
       "      <td>...</td>\n",
       "      <td>1</td>\n",
       "      <td>240</td>\n",
       "      <td>15</td>\n",
       "      <td>0</td>\n",
       "      <td>20</td>\n",
       "      <td>(100, 100)</td>\n",
       "      <td>220</td>\n",
       "      <td>4</td>\n",
       "      <td>(2.0, 4.0)</td>\n",
       "      <td>(10.0, 20.0)</td>\n",
       "    </tr>\n",
       "  </tbody>\n",
       "</table>\n",
       "<p>3 rows × 21 columns</p>\n",
       "</div>"
      ],
      "text/plain": [
       "   Unnamed: 0  Загруженность ресурсов (%)  Общий пробег  \\\n",
       "0           0                    4.505451    485.501672   \n",
       "1           1                    6.812400   1015.415087   \n",
       "2           2                   10.545581   1288.566316   \n",
       "\n",
       "   Соблюдение временных окон (%)  \\\n",
       "0                       0.000000   \n",
       "1                      40.000000   \n",
       "2                      26.666667   \n",
       "\n",
       "   Равномерность распределения нагрузки (StdDev of Earnings)  \\\n",
       "0                                         387.670874           \n",
       "1                                         555.136461           \n",
       "2                                         902.025353           \n",
       "\n",
       "   Среднее время выполнения заказа  Количество сообщений  \\\n",
       "0                        71.497299                   210   \n",
       "1                        80.337108                   420   \n",
       "2                       100.546667                   630   \n",
       "\n",
       "   Количество выполненных заказов  Среднее время выполнения срочных заказов  \\\n",
       "0                               5                                       0.0   \n",
       "1                              10                                       0.0   \n",
       "2                              15                                       0.0   \n",
       "\n",
       "   Среднее время выполнения несрочных заказов  ...  tick_size  time_stop  \\\n",
       "0                                   71.497299  ...          1        240   \n",
       "1                                   80.337108  ...          1        240   \n",
       "2                                  100.546667  ...          1        240   \n",
       "\n",
       "   num_orders  urgent_percentage  num_couriers    map_size  \\\n",
       "0           5                  0            20  (100, 100)   \n",
       "1          10                  0            20  (100, 100)   \n",
       "2          15                  0            20  (100, 100)   \n",
       "\n",
       "  max_appearance_time  avg_courier_speed  velocity_range payload_range  \n",
       "0                 220                  4      (2.0, 4.0)  (10.0, 20.0)  \n",
       "1                 220                  4      (2.0, 4.0)  (10.0, 20.0)  \n",
       "2                 220                  4      (2.0, 4.0)  (10.0, 20.0)  \n",
       "\n",
       "[3 rows x 21 columns]"
      ]
     },
     "execution_count": 7,
     "metadata": {},
     "output_type": "execute_result"
    }
   ],
   "source": [
    "df = pd.read_excel(\"experiments_results\\\\23-06-2025_14-59-53_196.xlsx\")\n",
    "df[:3]"
   ]
  },
  {
   "cell_type": "code",
   "execution_count": 10,
   "metadata": {},
   "outputs": [
    {
     "data": {
      "text/plain": [
       "Index(['Unnamed: 0', 'Загруженность ресурсов (%)', 'Общий пробег',\n",
       "       'Соблюдение временных окон (%)',\n",
       "       'Равномерность распределения нагрузки (StdDev of Earnings)',\n",
       "       'Среднее время выполнения заказа', 'experiment_time', 'tick_size',\n",
       "       'time_stop', 'num_orders', 'urgent_percentage', 'num_couriers',\n",
       "       'map_size', 'max_appearance_time', 'avg_courier_speed',\n",
       "       'velocity_range', 'payload_range', 'Количество сообщений',\n",
       "       'Количество выполненных заказов',\n",
       "       'Среднее время выполнения срочных заказов',\n",
       "       'Среднее время выполнения несрочных заказов'],\n",
       "      dtype='object')"
      ]
     },
     "execution_count": 10,
     "metadata": {},
     "output_type": "execute_result"
    }
   ],
   "source": [
    "df.columns"
   ]
  },
  {
   "cell_type": "code",
   "execution_count": 11,
   "metadata": {},
   "outputs": [
    {
     "data": {
      "text/plain": [
       "'payload_range'"
      ]
     },
     "execution_count": 11,
     "metadata": {},
     "output_type": "execute_result"
    }
   ],
   "source": [
    "'Загруженность ресурсов (%)', \n",
    "'Общий пробег',\n",
    "'Соблюдение временных окон (%)',\n",
    "'Равномерность распределения нагрузки (StdDev of Earnings)',\n",
    "'Среднее время выполнения заказа', \n",
    "'experiment_time', \n",
    "'tick_size',\n",
    "'time_stop', \n",
    "'num_orders', \n",
    "'urgent_percentage', \n",
    "'num_couriers',\n",
    "'map_size', \n",
    "'max_appearance_time', \n",
    "'avg_courier_speed',\n",
    "'velocity_range', \n",
    "'payload_range'"
   ]
  },
  {
   "cell_type": "code",
   "execution_count": 12,
   "metadata": {},
   "outputs": [],
   "source": [
    "col_metrics = ['Загруженность ресурсов (%)', 'Общий пробег',\n",
    "       'Соблюдение временных окон (%)',\n",
    "       'Равномерность распределения нагрузки (StdDev of Earnings)',\n",
    "       'Среднее время выполнения заказа', 'Количество сообщений',\n",
    "       'Количество выполненных заказов',\n",
    "       'Среднее время выполнения срочных заказов',\n",
    "       'Среднее время выполнения несрочных заказов']\n",
    "\n",
    "col_parametrs = ['tick_size',\n",
    "    'time_stop', \n",
    "    'num_orders', \n",
    "    'urgent_percentage', \n",
    "    'num_couriers',\n",
    "    'map_size', \n",
    "    'max_appearance_time', \n",
    "    'avg_courier_speed',\n",
    "    'velocity_range', \n",
    "    'payload_range']\n"
   ]
  },
  {
   "cell_type": "code",
   "execution_count": 13,
   "metadata": {},
   "outputs": [],
   "source": [
    "new_metric_name = \"Отношение загруженности к количеству заказов\"\n",
    "df[new_metric_name] = df['Загруженность ресурсов (%)']/df['num_orders']\n",
    "if not new_metric_name in col_metrics:\n",
    "    col_metrics.append(new_metric_name)\n",
    "\n",
    "new_metric_name = \"Средний пробег одного курьера\"\n",
    "df[new_metric_name] = df['Общий пробег']/df['num_orders']\n",
    "if not new_metric_name in col_metrics:\n",
    "    col_metrics.append(new_metric_name)"
   ]
  },
  {
   "cell_type": "code",
   "execution_count": 14,
   "metadata": {},
   "outputs": [
    {
     "name": "stdout",
     "output_type": "stream",
     "text": [
      "tick_size,\t1,\t[1]\n",
      "time_stop,\t240,\t[240]\n",
      "num_orders,\t80,\t[5, 10, 15, 20, 25, 30, 35, 40, 45, 50, 55, 60, 65, 70, 75, 80, 85, 90, 95, 100, 110, 120, 130, 140, 150, 160, 170, 180, 190, 200]\n",
      "urgent_percentage,\t10,\t[0, 5, 10, 15, 20]\n",
      "num_couriers,\t45,\t[20, 25, 30, 35, 40, 45, 50, 5, 10, 15]\n",
      "map_size,\t(100, 100),\t['(100, 100)']\n",
      "max_appearance_time,\t50,\t[220, 50]\n",
      "avg_courier_speed,\t5,\t[4, 5, 3]\n",
      "velocity_range,\t(8.0, 15.0),\t['(2.0, 4.0)', '(8.0, 15.0)']\n",
      "payload_range,\t(10.0, 20.0),\t['(10.0, 20.0)']\n"
     ]
    }
   ],
   "source": [
    "normal_values = {}\n",
    "for col in col_parametrs:\n",
    "    l_unique = list(df[col].unique())\n",
    "    print(col, l_unique[len(l_unique)//2], l_unique, sep=\",\\t\")\n",
    "    normal_values[col] = l_unique[len(l_unique)//2]"
   ]
  },
  {
   "cell_type": "code",
   "execution_count": 15,
   "metadata": {},
   "outputs": [],
   "source": [
    "# вывод графика\n",
    "def show_3axis(show_axes):\n",
    "    fig, ax = plt.subplots(1, 1,figsize=(9, 4))\n",
    "\n",
    "    x = df[show_axes[0]].unique()\n",
    "    for z in df[show_axes[2]].unique():\n",
    "        masks = []\n",
    "        for norm_col, norm_val in normal_values.items():\n",
    "            if norm_col in show_axes:\n",
    "                continue\n",
    "            masks.append(df[norm_col] == norm_val)\n",
    "        masks.append(df[show_axes[2]] == z)\n",
    "        mask = pd.concat(masks, axis=1).all(axis=1)\n",
    "        ax.plot(x, df[mask][show_axes[1]], label=f\"{show_axes[2]}: {z}\")\n",
    "\n",
    "    ax.set_xlabel(show_axes[0])\n",
    "    ax.set_ylabel(show_axes[1])\n",
    "    ax.set_title(show_axes[1])\n",
    "    plt.legend()\n"
   ]
  },
  {
   "cell_type": "code",
   "execution_count": 16,
   "metadata": {},
   "outputs": [
    {
     "ename": "ValueError",
     "evalue": "x and y must have same first dimension, but have shapes (30,) and (18,)",
     "output_type": "error",
     "traceback": [
      "\u001b[1;31m---------------------------------------------------------------------------\u001b[0m",
      "\u001b[1;31mValueError\u001b[0m                                Traceback (most recent call last)",
      "Cell \u001b[1;32mIn[16], line 2\u001b[0m\n\u001b[0;32m      1\u001b[0m \u001b[38;5;28;01mfor\u001b[39;00m col_metr \u001b[38;5;129;01min\u001b[39;00m col_metrics:\n\u001b[1;32m----> 2\u001b[0m     \u001b[43mshow_3axis\u001b[49m\u001b[43m(\u001b[49m\u001b[43m[\u001b[49m\u001b[38;5;124;43m\"\u001b[39;49m\u001b[38;5;124;43mnum_orders\u001b[39;49m\u001b[38;5;124;43m\"\u001b[39;49m\u001b[43m,\u001b[49m\u001b[43m \u001b[49m\u001b[43mcol_metr\u001b[49m\u001b[43m,\u001b[49m\u001b[43m \u001b[49m\u001b[38;5;124;43m\"\u001b[39;49m\u001b[38;5;124;43mnum_couriers\u001b[39;49m\u001b[38;5;124;43m\"\u001b[39;49m\u001b[43m]\u001b[49m\u001b[43m)\u001b[49m\n",
      "Cell \u001b[1;32mIn[15], line 14\u001b[0m, in \u001b[0;36mshow_3axis\u001b[1;34m(show_axes)\u001b[0m\n\u001b[0;32m     12\u001b[0m     masks\u001b[38;5;241m.\u001b[39mappend(df[show_axes[\u001b[38;5;241m2\u001b[39m]] \u001b[38;5;241m==\u001b[39m z)\n\u001b[0;32m     13\u001b[0m     mask \u001b[38;5;241m=\u001b[39m pd\u001b[38;5;241m.\u001b[39mconcat(masks, axis\u001b[38;5;241m=\u001b[39m\u001b[38;5;241m1\u001b[39m)\u001b[38;5;241m.\u001b[39mall(axis\u001b[38;5;241m=\u001b[39m\u001b[38;5;241m1\u001b[39m)\n\u001b[1;32m---> 14\u001b[0m     \u001b[43max\u001b[49m\u001b[38;5;241;43m.\u001b[39;49m\u001b[43mplot\u001b[49m\u001b[43m(\u001b[49m\u001b[43mx\u001b[49m\u001b[43m,\u001b[49m\u001b[43m \u001b[49m\u001b[43mdf\u001b[49m\u001b[43m[\u001b[49m\u001b[43mmask\u001b[49m\u001b[43m]\u001b[49m\u001b[43m[\u001b[49m\u001b[43mshow_axes\u001b[49m\u001b[43m[\u001b[49m\u001b[38;5;241;43m1\u001b[39;49m\u001b[43m]\u001b[49m\u001b[43m]\u001b[49m\u001b[43m,\u001b[49m\u001b[43m \u001b[49m\u001b[43mlabel\u001b[49m\u001b[38;5;241;43m=\u001b[39;49m\u001b[38;5;124;43mf\u001b[39;49m\u001b[38;5;124;43m\"\u001b[39;49m\u001b[38;5;132;43;01m{\u001b[39;49;00m\u001b[43mshow_axes\u001b[49m\u001b[43m[\u001b[49m\u001b[38;5;241;43m2\u001b[39;49m\u001b[43m]\u001b[49m\u001b[38;5;132;43;01m}\u001b[39;49;00m\u001b[38;5;124;43m: \u001b[39;49m\u001b[38;5;132;43;01m{\u001b[39;49;00m\u001b[43mz\u001b[49m\u001b[38;5;132;43;01m}\u001b[39;49;00m\u001b[38;5;124;43m\"\u001b[39;49m\u001b[43m)\u001b[49m\n\u001b[0;32m     16\u001b[0m ax\u001b[38;5;241m.\u001b[39mset_xlabel(show_axes[\u001b[38;5;241m0\u001b[39m])\n\u001b[0;32m     17\u001b[0m ax\u001b[38;5;241m.\u001b[39mset_ylabel(show_axes[\u001b[38;5;241m1\u001b[39m])\n",
      "File \u001b[1;32mc:\\DEV\\MAS_logistik\\venv\\lib\\site-packages\\matplotlib\\axes\\_axes.py:1777\u001b[0m, in \u001b[0;36mAxes.plot\u001b[1;34m(self, scalex, scaley, data, *args, **kwargs)\u001b[0m\n\u001b[0;32m   1534\u001b[0m \u001b[38;5;250m\u001b[39m\u001b[38;5;124;03m\"\"\"\u001b[39;00m\n\u001b[0;32m   1535\u001b[0m \u001b[38;5;124;03mPlot y versus x as lines and/or markers.\u001b[39;00m\n\u001b[0;32m   1536\u001b[0m \n\u001b[1;32m   (...)\u001b[0m\n\u001b[0;32m   1774\u001b[0m \u001b[38;5;124;03m(``'green'``) or hex strings (``'#008000'``).\u001b[39;00m\n\u001b[0;32m   1775\u001b[0m \u001b[38;5;124;03m\"\"\"\u001b[39;00m\n\u001b[0;32m   1776\u001b[0m kwargs \u001b[38;5;241m=\u001b[39m cbook\u001b[38;5;241m.\u001b[39mnormalize_kwargs(kwargs, mlines\u001b[38;5;241m.\u001b[39mLine2D)\n\u001b[1;32m-> 1777\u001b[0m lines \u001b[38;5;241m=\u001b[39m [\u001b[38;5;241m*\u001b[39m\u001b[38;5;28mself\u001b[39m\u001b[38;5;241m.\u001b[39m_get_lines(\u001b[38;5;28mself\u001b[39m, \u001b[38;5;241m*\u001b[39margs, data\u001b[38;5;241m=\u001b[39mdata, \u001b[38;5;241m*\u001b[39m\u001b[38;5;241m*\u001b[39mkwargs)]\n\u001b[0;32m   1778\u001b[0m \u001b[38;5;28;01mfor\u001b[39;00m line \u001b[38;5;129;01min\u001b[39;00m lines:\n\u001b[0;32m   1779\u001b[0m     \u001b[38;5;28mself\u001b[39m\u001b[38;5;241m.\u001b[39madd_line(line)\n",
      "File \u001b[1;32mc:\\DEV\\MAS_logistik\\venv\\lib\\site-packages\\matplotlib\\axes\\_base.py:297\u001b[0m, in \u001b[0;36m_process_plot_var_args.__call__\u001b[1;34m(self, axes, data, return_kwargs, *args, **kwargs)\u001b[0m\n\u001b[0;32m    295\u001b[0m     this \u001b[38;5;241m+\u001b[39m\u001b[38;5;241m=\u001b[39m args[\u001b[38;5;241m0\u001b[39m],\n\u001b[0;32m    296\u001b[0m     args \u001b[38;5;241m=\u001b[39m args[\u001b[38;5;241m1\u001b[39m:]\n\u001b[1;32m--> 297\u001b[0m \u001b[38;5;28;01myield from\u001b[39;00m \u001b[38;5;28;43mself\u001b[39;49m\u001b[38;5;241;43m.\u001b[39;49m\u001b[43m_plot_args\u001b[49m\u001b[43m(\u001b[49m\n\u001b[0;32m    298\u001b[0m \u001b[43m    \u001b[49m\u001b[43maxes\u001b[49m\u001b[43m,\u001b[49m\u001b[43m \u001b[49m\u001b[43mthis\u001b[49m\u001b[43m,\u001b[49m\u001b[43m \u001b[49m\u001b[43mkwargs\u001b[49m\u001b[43m,\u001b[49m\u001b[43m \u001b[49m\u001b[43mambiguous_fmt_datakey\u001b[49m\u001b[38;5;241;43m=\u001b[39;49m\u001b[43mambiguous_fmt_datakey\u001b[49m\u001b[43m,\u001b[49m\n\u001b[0;32m    299\u001b[0m \u001b[43m    \u001b[49m\u001b[43mreturn_kwargs\u001b[49m\u001b[38;5;241;43m=\u001b[39;49m\u001b[43mreturn_kwargs\u001b[49m\n\u001b[0;32m    300\u001b[0m \u001b[43m\u001b[49m\u001b[43m)\u001b[49m\n",
      "File \u001b[1;32mc:\\DEV\\MAS_logistik\\venv\\lib\\site-packages\\matplotlib\\axes\\_base.py:494\u001b[0m, in \u001b[0;36m_process_plot_var_args._plot_args\u001b[1;34m(self, axes, tup, kwargs, return_kwargs, ambiguous_fmt_datakey)\u001b[0m\n\u001b[0;32m    491\u001b[0m     axes\u001b[38;5;241m.\u001b[39myaxis\u001b[38;5;241m.\u001b[39mupdate_units(y)\n\u001b[0;32m    493\u001b[0m \u001b[38;5;28;01mif\u001b[39;00m x\u001b[38;5;241m.\u001b[39mshape[\u001b[38;5;241m0\u001b[39m] \u001b[38;5;241m!=\u001b[39m y\u001b[38;5;241m.\u001b[39mshape[\u001b[38;5;241m0\u001b[39m]:\n\u001b[1;32m--> 494\u001b[0m     \u001b[38;5;28;01mraise\u001b[39;00m \u001b[38;5;167;01mValueError\u001b[39;00m(\u001b[38;5;124mf\u001b[39m\u001b[38;5;124m\"\u001b[39m\u001b[38;5;124mx and y must have same first dimension, but \u001b[39m\u001b[38;5;124m\"\u001b[39m\n\u001b[0;32m    495\u001b[0m                      \u001b[38;5;124mf\u001b[39m\u001b[38;5;124m\"\u001b[39m\u001b[38;5;124mhave shapes \u001b[39m\u001b[38;5;132;01m{\u001b[39;00mx\u001b[38;5;241m.\u001b[39mshape\u001b[38;5;132;01m}\u001b[39;00m\u001b[38;5;124m and \u001b[39m\u001b[38;5;132;01m{\u001b[39;00my\u001b[38;5;241m.\u001b[39mshape\u001b[38;5;132;01m}\u001b[39;00m\u001b[38;5;124m\"\u001b[39m)\n\u001b[0;32m    496\u001b[0m \u001b[38;5;28;01mif\u001b[39;00m x\u001b[38;5;241m.\u001b[39mndim \u001b[38;5;241m>\u001b[39m \u001b[38;5;241m2\u001b[39m \u001b[38;5;129;01mor\u001b[39;00m y\u001b[38;5;241m.\u001b[39mndim \u001b[38;5;241m>\u001b[39m \u001b[38;5;241m2\u001b[39m:\n\u001b[0;32m    497\u001b[0m     \u001b[38;5;28;01mraise\u001b[39;00m \u001b[38;5;167;01mValueError\u001b[39;00m(\u001b[38;5;124mf\u001b[39m\u001b[38;5;124m\"\u001b[39m\u001b[38;5;124mx and y can be no greater than 2D, but have \u001b[39m\u001b[38;5;124m\"\u001b[39m\n\u001b[0;32m    498\u001b[0m                      \u001b[38;5;124mf\u001b[39m\u001b[38;5;124m\"\u001b[39m\u001b[38;5;124mshapes \u001b[39m\u001b[38;5;132;01m{\u001b[39;00mx\u001b[38;5;241m.\u001b[39mshape\u001b[38;5;132;01m}\u001b[39;00m\u001b[38;5;124m and \u001b[39m\u001b[38;5;132;01m{\u001b[39;00my\u001b[38;5;241m.\u001b[39mshape\u001b[38;5;132;01m}\u001b[39;00m\u001b[38;5;124m\"\u001b[39m)\n",
      "\u001b[1;31mValueError\u001b[0m: x and y must have same first dimension, but have shapes (30,) and (18,)"
     ]
    },
    {
     "data": {
      "image/png": "[encoded data removed]",
      "text/plain": [
       "<Figure size 900x400 with 1 Axes>"
      ]
     },
     "metadata": {},
     "output_type": "display_data"
    }
   ],
   "source": [
    "for col_metr in col_metrics:\n",
    "    show_3axis([\"num_orders\", col_metr, \"num_couriers\"])"
   ]
  },
  {
   "cell_type": "code",
   "execution_count": null,
   "metadata": {},
   "outputs": [],
   "source": []
  }
 ],
 "metadata": {
  "kernelspec": {
   "display_name": "venv",
   "language": "python",
   "name": "python3"
  },
  "language_info": {
   "codemirror_mode": {
    "name": "ipython",
    "version": 3
   },
   "file_extension": ".py",
   "mimetype": "text/x-python",
   "name": "python",
   "nbconvert_exporter": "python",
   "pygments_lexer": "ipython3",
   "version": "3.10.7"
  }
 },
 "nbformat": 4,
 "nbformat_minor": 2
}
